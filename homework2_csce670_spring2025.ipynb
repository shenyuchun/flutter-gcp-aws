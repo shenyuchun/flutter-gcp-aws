{
  "cells": [
    {
      "cell_type": "markdown",
      "metadata": {
        "id": "view-in-github",
        "colab_type": "text"
      },
      "source": [
        "<a href=\"https://colab.research.google.com/github/shenyuchun/flutter-gcp-aws/blob/main/homework2_csce670_spring2025.ipynb\" target=\"_parent\"><img src=\"https://colab.research.google.com/assets/colab-badge.svg\" alt=\"Open In Colab\"/></a>"
      ]
    },
    {
      "cell_type": "markdown",
      "metadata": {
        "id": "zAxczUGVN-Jc"
      },
      "source": [
        "#### CSCE 670 :: Information Storage & Retrieval :: Texas A&M University :: Spring 2025\n",
        "\n",
        "\n",
        "# Homework 2:  Ranking with text and links\n",
        "\n",
        "### 100 points [4% of your final grade]\n",
        "\n",
        "### Due: February 24 (Monday) by 11:59pm\n",
        "\n",
        "*Goals of this homework:* In this homework you will focus on the (i) basics of parsing data and graph building; and (ii) basics of PageRank and HITS.\n",
        "\n",
        "*Submission instructions (Canvas):* To submit your homework, rename this notebook as `UIN_hw2.ipynb`. For example, my homework submission would be something like `555001234_hw2.ipynb`. Submit this notebook via Canvas (look for the homework 2 assignment there). Your notebook should be completely self-contained, with the results visible in the notebook. We should not have to run any code from the command line, nor should we have to run your code within the notebook (though we reserve the right to do so). So please run all the cells for us, and then submit.\n",
        "\n",
        "*Late submission policy:* For this homework, you may use as many late days as you like (up to the 5 total allotted to you).\n",
        "\n",
        "*Collaboration policy:* You are expected to complete each homework independently. Your solution should be written by you without the direct aid or help of anyone else. However, we believe that collaboration and team work are important for facilitating learning, so we encourage you to discuss problems and general problem approaches (but not actual solutions) with your classmates. You may post on Canvas, search StackOverflow, even use ChatGPT. But if you do get help in this way, you must inform us by **filling out the Collaboration Declarations at the bottom of this notebook**. See the course syllabus for details.\n",
        "\n",
        "*Example: I found helpful code on stackoverflow at https://stackoverflow.com/questions/11764539/writing-fizzbuzz that helped me solve Problem 2.*\n",
        "\n",
        "The basic rule is that no student should explicitly share a solution with another student (and thereby circumvent the basic learning process), but it is okay to share general approaches, directions, and so on. If you feel like you have an issue that needs clarification, feel free to contact either me or the TA."
      ]
    },
    {
      "cell_type": "markdown",
      "metadata": {
        "id": "9CKllFl-N-Jk"
      },
      "source": [
        "# Dataset: Enron Email Dataset\n",
        "\n",
        "We are providing you with a collection of emails from the Enron Email Dataset. The Enron Email Dataset was collected and prepared by the CALO Project (A Cognitive Assistant that Learns and Organizes). It contains data from about 150 users, mostly senior management of Enron. The full corpus contains a total of about 0.5M messages (https://www.cs.cmu.edu/~enron/).\n",
        "\n",
        "For this homework, we will use a subset of the dataset. The subset contains the `sent emails` from 78 users in the dataset. We have zipped the dataset and provided it to you on Canvas as `enron_sent_mail.zip`. The zip file is about 45 MB. Each folder contains a subfolder named `_sent_mail` which contains the sent emails of that user. Each email is stored in a separate file, containing the relationship of `who send to whom` as noted by `From:` and `To:` entries. We are going to build a graph using the relationships between the users!\n",
        "\n",
        "\n",
        "Below is an example of one email.\n",
        "\n",
        "```text\n",
        "Message-ID: <33025919.1075857594206.JavaMail.evans@thyme>\n",
        "Date: Wed, 13 Dec 2000 13:09:00 -0800 (PST)\n",
        "From: john.arnold@enron.com\n",
        "To: slafontaine@globalp.com\n",
        "Subject: re:spreads\n",
        "Mime-Version: 1.0\n",
        "Content-Type: text/plain; charset=us-ascii\n",
        "Content-Transfer-Encoding: 7bit\n",
        "X-From: John Arnold\n",
        "X-To: slafontaine@globalp.com @ ENRON\n",
        "X-cc:\n",
        "X-bcc:\n",
        "X-Folder: \\John_Arnold_Dec2000\\Notes Folders\\'sent mail\n",
        "X-Origin: Arnold-J\n",
        "X-FileName: Jarnold.nsf\n",
        "\n",
        "saw a lot of the bulls sell summer against length in front to mitigate\n",
        "margins/absolute position limits/var.  as these guys are taking off the\n",
        "front, they are also buying back summer.  el paso large buyer of next winter\n",
        "today taking off spreads.  certainly a reason why the spreads were so strong\n",
        "on the way up and such a piece now.   really the only one left with any risk\n",
        "premium built in is h/j now.   it was trading equivalent of 180 on access,\n",
        "down 40+ from this morning.  certainly if we are entering a period of bearish\n",
        "to neutral trade, h/j will get whacked.  certainly understand the arguments\n",
        "for h/j.  if h settles $20, that spread is probably worth $10.  H 20 call was\n",
        "trading for 55 on monday.  today it was 10/17.  the market's view of\n",
        "probability of h going crazy has certainly changed in past 48 hours and that\n",
        "has to be reflected in h/j.\n",
        "\n",
        "\n",
        "\n",
        "\n",
        "slafontaine@globalp.com on 12/13/2000 04:15:51 PM\n",
        "To: slafontaine@globalp.com\n",
        "cc: John.Arnold@enron.com\n",
        "Subject: re:spreads\n",
        "\n",
        "\n",
        "\n",
        "mkt getting a little more bearish the back of winter i think-if we get another\n",
        "cold blast jan/feb mite move out. with oil moving down and march closer flat\n",
        "px\n",
        "wide to jan im not so bearish these sprds now-less bullish march april as\n",
        "well.\n",
        "```"
      ]
    },
    {
      "cell_type": "markdown",
      "metadata": {
        "id": "k8c7A4nuN-Jp"
      },
      "source": [
        "# Part 1: Parse the Email Data to Build a Graph (50 points)\n",
        "\n",
        "---\n",
        "\n",
        "Recall how we parse the email content in HW1. Now, in this part, we're going to parse the dataset to build a graph. So, instead of viewing the world as web pages with hyperlinks (where pages = nodes, hyperlinks = edges), we view it as users in an email network. Over this graph, we can apply classic methods like PageRank and Hubs-and-Authorities to order the users according to some notion of importance.\n",
        "\n",
        "For the first part, you will complete the following code to construct the graph based on the given data. In this graph, the node is the user and a link between two users is added if user A sent an email to user B. The weight of the link is the number of emails sent between user A and user B."
      ]
    },
    {
      "cell_type": "markdown",
      "metadata": {
        "id": "ZxZuvK3InOR4"
      },
      "source": [
        "You will need to write a python code to loop through each email file and extract the sender and receiver of each email.\n",
        "Specifically, you should extract the sender from the `From: john.arnold@enron.com` and receiver from the `To: slafontaine@globalp.com` fields at the top of each email.\n",
        "\n",
        "* Use the email address to represent a unique user.\n",
        "* Remove any space in the email. User lower case for the email address.\n",
        "* Only extract the email addresses that are in the `From:` and `To:` fields at the top of the email. If the email contains forwarded emails below, you can ignore them.\n",
        "* Choose a proper data structure to store the unique users and the number of times they appear in the dataset. We will use it to build a graph later."
      ]
    },
    {
      "cell_type": "markdown",
      "metadata": {
        "id": "cXPKpnJrnOR4"
      },
      "source": [
        "### Print the number of total emails (5 points)"
      ]
    },
    {
      "cell_type": "code",
      "execution_count": 5,
      "metadata": {
        "id": "gBqpgtOe4QGH",
        "colab": {
          "base_uri": "https://localhost:8080/"
        },
        "outputId": "f32f18d8-65a5-496a-8947-34bd62cd2512"
      },
      "outputs": [
        {
          "output_type": "stream",
          "name": "stdout",
          "text": [
            "Total number of emails processed: 30034\n",
            "Email 網絡圖構建完成，共有 5056 個節點，7980 條邊。\n"
          ]
        }
      ],
      "source": [
        "import os\n",
        "import re\n",
        "import networkx as nx\n",
        "from collections import defaultdict\n",
        "import os\n",
        "import zipfile\n",
        "\n",
        "# 設定 Colab 上的上傳目錄\n",
        "zip_path = \"/content/enron_sent_mail.zip\"\n",
        "extract_path = \"/content/enron_sent_mail/enron_sent_mail\"\n",
        "\n",
        "\n",
        "# 解析 email 檔案的函數\n",
        "def parse_email(file_path):\n",
        "    \"\"\"解析郵件文件，提取發件人 (From) 和收件人 (To)\"\"\"\n",
        "    from_email = None\n",
        "    to_emails = []\n",
        "\n",
        "    with open(file_path, \"r\", encoding=\"latin1\") as file:\n",
        "        for line in file:\n",
        "            # 找到 From: 字段\n",
        "            if line.lower().startswith(\"from:\"):\n",
        "                from_email = line.split(\":\", 1)[1].strip().lower()\n",
        "\n",
        "            # 找到 To: 字段\n",
        "            elif line.lower().startswith(\"to:\"):\n",
        "                to_emails = [email.strip().lower() for email in line.split(\":\", 1)[1].split(\",\")]\n",
        "\n",
        "            # 只讀取郵件的標頭部分，遇到空行後停止解析\n",
        "            elif line.strip() == \"\":\n",
        "                break\n",
        "\n",
        "    return from_email, to_emails\n",
        "\n",
        "# 建立 Email 網絡的函數\n",
        "def build_email_graph(base_dir):\n",
        "    \"\"\"遍歷 Enron 郵件數據，構建發送關係圖\"\"\"\n",
        "    email_graph = defaultdict(lambda: defaultdict(int))  # 雙層字典存儲 {發件人: {收件人: 次數}}\n",
        "    total_emails = 0  # 記錄郵件數量\n",
        "\n",
        "    # 遍歷每個用戶的發送郵件文件夾\n",
        "    for user_folder in os.listdir(base_dir):\n",
        "        sent_mail_dir = os.path.join(base_dir, user_folder, \"_sent_mail\")\n",
        "\n",
        "        if os.path.isdir(sent_mail_dir):\n",
        "            for email_file in os.listdir(sent_mail_dir):\n",
        "                file_path = os.path.join(sent_mail_dir, email_file)\n",
        "\n",
        "                # 解析郵件\n",
        "                from_email, to_emails = parse_email(file_path)\n",
        "\n",
        "                # 構建發送關係\n",
        "                if from_email and to_emails:\n",
        "                    total_emails += 1  # 計算有效郵件數量\n",
        "                    for to_email in to_emails:\n",
        "                        email_graph[from_email][to_email] += 1\n",
        "\n",
        "    return email_graph, total_emails\n",
        "\n",
        "# 設定資料夾路徑（請修改為你的解壓縮路徑）\n",
        "base_directory = \"/content/enron_sent_mail/enron_sent_mail\"\n",
        "\n",
        "# 解析郵件並構建 Email Graph\n",
        "email_graph, total_emails = build_email_graph(base_directory)\n",
        "\n",
        "# 轉換為 NetworkX 圖\n",
        "G = nx.DiGraph()\n",
        "for sender, receivers in email_graph.items():\n",
        "    for receiver, count in receivers.items():\n",
        "        G.add_edge(sender, receiver, weight=count)\n",
        "\n",
        "# 儲存圖結構\n",
        "nx.write_gml(G, \"email_network.gml\")  # 儲存為 GML 格式以供後續分析\n",
        "\n",
        "# ✅ Print the total number of emails processed\n",
        "print(f\"Total number of emails processed: {total_emails}\")\n",
        "print(f\"Email 網絡圖構建完成，共有 {G.number_of_nodes()} 個節點，{G.number_of_edges()} 條邊。\")\n"
      ]
    },
    {
      "cell_type": "markdown",
      "metadata": {
        "id": "VBZKSkd-nOR5"
      },
      "source": [
        "### Print the number of unique users (5 points)"
      ]
    },
    {
      "cell_type": "code",
      "execution_count": 6,
      "metadata": {
        "id": "DPt6RZ9TnOR5",
        "colab": {
          "base_uri": "https://localhost:8080/"
        },
        "outputId": "c266fa3b-bbeb-4aca-b8f3-75cdcbc68528"
      },
      "outputs": [
        {
          "output_type": "stream",
          "name": "stdout",
          "text": [
            "👥 Number of unique users: 5056\n"
          ]
        }
      ],
      "source": [
        "# your code here\n",
        "# ✅ 計算唯一用戶數量（節點數）\n",
        "unique_users = G.number_of_nodes()\n",
        "print(f\"👥 Number of unique users: {unique_users}\")\n"
      ]
    },
    {
      "cell_type": "markdown",
      "metadata": {
        "id": "xw83Hfw9nOR6"
      },
      "source": [
        "### Print the top-5 users ranked by the number of emails they involved in the dataset (5 points)\n",
        "\n",
        "For example, email 1 we have user A sent to user B, email 2 we have user C sent to user A. Then, user A is involved in 2 emails, user B and C are involved in 1 email. So, the top users are A, B, C.\n",
        "\n",
        "Your output should look like this:\n",
        "\n",
        "```text\n",
        "user emails_involved\n",
        "john.arnold@enron.com 100\n",
        "slafontaine@globalp.com 98\n",
        "......\n",
        "```"
      ]
    },
    {
      "cell_type": "code",
      "execution_count": 15,
      "metadata": {
        "id": "5MOaB82KnOR6",
        "colab": {
          "base_uri": "https://localhost:8080/"
        },
        "outputId": "3e8e2f14-7e22-4326-c78e-241759872835"
      },
      "outputs": [
        {
          "output_type": "stream",
          "name": "stdout",
          "text": [
            "\n",
            "👑 Top-5 users ranked by emails involved:\n",
            "User\tEmails Involved\n",
            "kay.mann@enron.com\t5230\n",
            "vince.kaminski@enron.com\t3682\n",
            "chris.germany@enron.com\t2926\n",
            "eric.bass@enron.com\t1976\n",
            "\t1693\n"
          ]
        }
      ],
      "source": [
        "# your code here\n",
        "# ✅ 計算每個用戶的參與次數（發件人 + 收件人）\n",
        "user_email_count = defaultdict(int)\n",
        "\n",
        "for sender, receivers in email_graph.items():\n",
        "    user_email_count[sender] += sum(receivers.values())  # 發件人發出的郵件數\n",
        "    for receiver, count in receivers.items():\n",
        "        user_email_count[receiver] += count  # 收件人收到的郵件數\n",
        "\n",
        "# ✅ 取得參與郵件最多的前 5 名\n",
        "top_5_users = sorted(user_email_count.items(), key=lambda x: x[1], reverse=True)[:5]\n",
        "\n",
        "# ✅ 打印結果\n",
        "print(\"\\n👑 Top-5 users ranked by emails involved:\")\n",
        "print(\"User\\tEmails Involved\")\n",
        "for user, count in top_5_users:\n",
        "    print(f\"{user}\\t{count}\")\n"
      ]
    },
    {
      "cell_type": "markdown",
      "metadata": {
        "id": "zE4mEvkgnOR6"
      },
      "source": [
        "### Print the top-5 users who sent out the most emails in the dataset (5 points)\n",
        "\n",
        "Note that here, we only consider the person who sent the email, not the receiver.\n",
        "\n",
        "Your output should look like this:\n",
        "\n",
        "```text\n",
        "user emails_sent\n",
        "john.arnold@enron.com 100\n",
        "slafontaine@globalp.com 98\n",
        "......\n",
        "```"
      ]
    },
    {
      "cell_type": "code",
      "execution_count": 16,
      "metadata": {
        "id": "Y1JgcladnOR6",
        "colab": {
          "base_uri": "https://localhost:8080/"
        },
        "outputId": "7f172685-6ec9-4d0b-d986-8a04e799b386"
      },
      "outputs": [
        {
          "output_type": "stream",
          "name": "stdout",
          "text": [
            "\n",
            "📤 Top-5 users who sent the most emails:\n",
            "User\tEmails Sent\n",
            "kay.mann@enron.com\t5219\n",
            "vince.kaminski@enron.com\t3646\n",
            "chris.germany@enron.com\t2894\n",
            "eric.bass@enron.com\t1950\n",
            "kate.symes@enron.com\t1539\n"
          ]
        }
      ],
      "source": [
        "# your code here\n",
        "# ✅ 計算每個發件人發送的郵件數量\n",
        "user_sent_count = {sender: sum(receivers.values()) for sender, receivers in email_graph.items()}\n",
        "\n",
        "# ✅ 取得發送郵件最多的前 5 名\n",
        "top_5_senders = sorted(user_sent_count.items(), key=lambda x: x[1], reverse=True)[:5]\n",
        "\n",
        "# ✅ 打印結果\n",
        "print(\"\\n📤 Top-5 users who sent the most emails:\")\n",
        "print(\"User\\tEmails Sent\")\n",
        "for user, count in top_5_senders:\n",
        "    print(f\"{user}\\t{count}\")\n"
      ]
    },
    {
      "cell_type": "markdown",
      "metadata": {
        "id": "nurNolGInOR6"
      },
      "source": [
        "### Print the top-5 users who received the most emails in the dataset (5 points)\n",
        "\n",
        "Note that here, we only consider the receiver, not sender.\n",
        "\n",
        "Your output should look like this:\n",
        "\n",
        "```text\n",
        "user emails_received\n",
        "john.arnold@enron.com 100\n",
        "slafontaine@globalp.com 98\n",
        "......\n",
        "```"
      ]
    },
    {
      "cell_type": "code",
      "execution_count": 17,
      "metadata": {
        "id": "rkzAayEJnOR6",
        "colab": {
          "base_uri": "https://localhost:8080/"
        },
        "outputId": "123e6965-093b-480f-e913-48b8ce253a63"
      },
      "outputs": [
        {
          "output_type": "stream",
          "name": "stdout",
          "text": [
            "\n",
            "📥 Top-5 users who received the most emails:\n",
            "User\tEmails Received\n",
            "\t1693\n",
            "vkaminski@aol.com\t1061\n",
            "suzanne.adams@enron.com\t427\n",
            "shirley.crenshaw@enron.com\t301\n",
            "nmann@erac.com\t285\n"
          ]
        }
      ],
      "source": [
        "# your code here\n",
        "# ✅ 計算每個收件人收到的郵件數量\n",
        "user_received_count = defaultdict(int)\n",
        "\n",
        "for sender, receivers in email_graph.items():\n",
        "    for receiver, count in receivers.items():\n",
        "        user_received_count[receiver] += count  # 記錄收件人收到的郵件數\n",
        "\n",
        "# ✅ 取得收到郵件最多的前 5 名\n",
        "top_5_receivers = sorted(user_received_count.items(), key=lambda x: x[1], reverse=True)[:5]\n",
        "\n",
        "# ✅ 打印結果\n",
        "print(\"\\n📥 Top-5 users who received the most emails:\")\n",
        "print(\"User\\tEmails Received\")\n",
        "for user, count in top_5_receivers:\n",
        "    print(f\"{user}\\t{count}\")\n"
      ]
    },
    {
      "cell_type": "markdown",
      "metadata": {
        "id": "xFIMWa37nOR6"
      },
      "source": [
        "### Let's build the graph! (15 points)\n",
        "\n",
        "Here we are going to use the `networkx` library to build the graph. You can install the library by running `!pip install networkx`.\n",
        "\n",
        "We are going to build an `undirected` graph (regardless of who sent to whom). The nodes of the graph are the users (represented by the unique email address) and the edges are the emails sent between the users. The weight of the edge is the number of emails sent between the users.\n",
        "\n",
        "For example, if user A sent 3 emails to user B, and user B sent 2 emails to user A, then the weight of the edge between A and B is 3+2=5."
      ]
    },
    {
      "cell_type": "code",
      "execution_count": 18,
      "metadata": {
        "id": "vwhCD8CBnOR6"
      },
      "outputs": [],
      "source": [
        "import networkx as nx\n",
        "import matplotlib.pyplot as plt\n",
        "import json\n",
        "from tqdm import tqdm"
      ]
    },
    {
      "cell_type": "code",
      "execution_count": null,
      "metadata": {
        "id": "jtSkk4oWnOR6"
      },
      "outputs": [],
      "source": [
        "# ✅ 記錄無向邊的權重\n",
        "email_edges = defaultdict(int)\n",
        "\n",
        "# ✅ 遍歷郵件數據並收集發送關係\n",
        "for sender, receivers in email_graph.items():\n",
        "    for receiver, count in receivers.items():\n",
        "        # 由於是無向圖，所以排序 (A, B) 和 (B, A) 視為同一條邊\n",
        "        edge = tuple(sorted([sender, receiver]))\n",
        "        email_edges[edge] += count"
      ]
    },
    {
      "cell_type": "code",
      "execution_count": 19,
      "metadata": {
        "id": "ODlO43ZtnOR6",
        "colab": {
          "base_uri": "https://localhost:8080/"
        },
        "outputId": "a0b5c88f-5dcc-4fbd-f504-480603192713"
      },
      "outputs": [
        {
          "output_type": "stream",
          "name": "stderr",
          "text": [
            "Processing emails: 100%|██████████| 105/105 [00:00<00:00, 10805.82it/s]\n",
            "Processing edges: 100%|██████████| 7874/7874 [00:00<00:00, 524096.64it/s]"
          ]
        },
        {
          "output_type": "stream",
          "name": "stdout",
          "text": [
            "\n",
            "📂 無向圖構建完成，共有 5056 個節點，7874 條邊。\n"
          ]
        },
        {
          "output_type": "stream",
          "name": "stderr",
          "text": [
            "\n"
          ]
        }
      ],
      "source": [
        "import os\n",
        "import networkx as nx\n",
        "from collections import defaultdict\n",
        "from tqdm import tqdm  # 用於顯示進度條\n",
        "\n",
        "# ✅ 記錄唯一用戶（節點）和無向邊（發送關係）\n",
        "unique_users = set()\n",
        "email_edges = defaultdict(int)\n",
        "\n",
        "# ✅ 遍歷郵件數據，解析發件人和收件人\n",
        "for sender, receivers in tqdm(email_graph.items(), desc=\"Processing emails\"):\n",
        "    unique_users.add(sender)  # 加入發件人\n",
        "    for receiver, count in receivers.items():\n",
        "        unique_users.add(receiver)  # 加入收件人\n",
        "        edge = tuple(sorted([sender, receiver]))  # 確保無向邊 (A, B) = (B, A)\n",
        "        email_edges[edge] += count  # 累計郵件數量作為權重\n",
        "\n",
        "# ✅ 建立無向圖\n",
        "G = nx.Graph()\n",
        "\n",
        "# ✅ 加入節點（用戶）\n",
        "G.add_nodes_from(unique_users)\n",
        "\n",
        "# ✅ 加入邊（發送關係）及其權重\n",
        "for (user_A, user_B), weight in tqdm(email_edges.items(), desc=\"Processing edges\"):\n",
        "    G.add_edge(user_A, user_B, weight=weight)\n",
        "\n",
        "# ✅ 打印結果\n",
        "print(f\"\\n📂 無向圖構建完成，共有 {G.number_of_nodes()} 個節點，{G.number_of_edges()} 條邊。\")\n"
      ]
    },
    {
      "cell_type": "markdown",
      "metadata": {
        "id": "jOTZbC3_N-Jt"
      },
      "source": [
        "### Visualization of the graph (5 points)\n",
        "\n",
        "Now you have built the graph. Let's visualize the graph. Use any package you like to visualize the graph.\n",
        "\n",
        "You can find some examples here: https://networkx.org/documentation/stable/auto_examples/index.html"
      ]
    },
    {
      "cell_type": "code",
      "execution_count": 20,
      "metadata": {
        "id": "PjBOvoLZnOR7",
        "colab": {
          "base_uri": "https://localhost:8080/",
          "height": 762
        },
        "outputId": "89164448-8b6c-43e1-9d50-e22c7c02db23"
      },
      "outputs": [
        {
          "output_type": "stream",
          "name": "stdout",
          "text": [
            "Requirement already satisfied: matplotlib in /usr/local/lib/python3.11/dist-packages (3.10.0)\n",
            "Requirement already satisfied: networkx in /usr/local/lib/python3.11/dist-packages (3.4.2)\n",
            "Requirement already satisfied: contourpy>=1.0.1 in /usr/local/lib/python3.11/dist-packages (from matplotlib) (1.3.1)\n",
            "Requirement already satisfied: cycler>=0.10 in /usr/local/lib/python3.11/dist-packages (from matplotlib) (0.12.1)\n",
            "Requirement already satisfied: fonttools>=4.22.0 in /usr/local/lib/python3.11/dist-packages (from matplotlib) (4.55.8)\n",
            "Requirement already satisfied: kiwisolver>=1.3.1 in /usr/local/lib/python3.11/dist-packages (from matplotlib) (1.4.8)\n",
            "Requirement already satisfied: numpy>=1.23 in /usr/local/lib/python3.11/dist-packages (from matplotlib) (1.26.4)\n",
            "Requirement already satisfied: packaging>=20.0 in /usr/local/lib/python3.11/dist-packages (from matplotlib) (24.2)\n",
            "Requirement already satisfied: pillow>=8 in /usr/local/lib/python3.11/dist-packages (from matplotlib) (11.1.0)\n",
            "Requirement already satisfied: pyparsing>=2.3.1 in /usr/local/lib/python3.11/dist-packages (from matplotlib) (3.2.1)\n",
            "Requirement already satisfied: python-dateutil>=2.7 in /usr/local/lib/python3.11/dist-packages (from matplotlib) (2.8.2)\n",
            "Requirement already satisfied: six>=1.5 in /usr/local/lib/python3.11/dist-packages (from python-dateutil>=2.7->matplotlib) (1.17.0)\n"
          ]
        },
        {
          "output_type": "display_data",
          "data": {
            "text/plain": [
              "<Figure size 1200x800 with 1 Axes>"
            ],
            "image/png": "[encoded data removed]"
          },
          "metadata": {}
        }
      ],
      "source": [
        "# your code here\n",
        "!pip install matplotlib networkx\n",
        "import matplotlib.pyplot as plt\n",
        "import networkx as nx\n",
        "\n",
        "# ✅ 使用 spring_layout 計算節點位置（適合無向圖）\n",
        "plt.figure(figsize=(12, 8))  # 設定圖片大小\n",
        "pos = nx.spring_layout(G, seed=42)  # 讓圖的佈局每次都一樣\n",
        "\n",
        "# ✅ 畫出節點與邊\n",
        "nx.draw_networkx_nodes(G, pos, node_size=50, alpha=0.7, node_color=\"blue\")\n",
        "nx.draw_networkx_edges(G, pos, alpha=0.3, width=0.5)\n",
        "\n",
        "# ✅ 顯示圖\n",
        "plt.title(\"Email Communication Network (Full Graph)\")\n",
        "plt.axis(\"off\")  # 移除座標軸\n",
        "plt.show()\n"
      ]
    },
    {
      "cell_type": "markdown",
      "metadata": {
        "id": "3Qc00MnenOR7"
      },
      "source": [
        "### Observation of the graph (5 points)\n",
        "\n",
        "What can you observe from the graph? Is there any user who is the center of the graph? Is there any user who is isolated from the graph? Which node has the most edges? Please provide your observations in bullet points based on the visualization.\n",
        "\n",
        "Your output should look like this:\n",
        "\n",
        "```text\n",
        "* Observation 1:\n",
        "* Observation 2:\n",
        "* Observation 3:\n",
        "```"
      ]
    },
    {
      "cell_type": "markdown",
      "metadata": {
        "id": "Ed1RYi-P0VCM"
      },
      "source": [
        "*your discussion here*"
      ]
    },
    {
      "cell_type": "markdown",
      "metadata": {
        "id": "LYce9oRO6sbl"
      },
      "source": [
        "# Part 2: Link-based Ranking (50 points)\n",
        "\n",
        "---\n",
        "\n",
        "In this part, over the graph you built, we're going to adapt the classic PageRank and  Hubs-and-Authorities approaches to allow us to find the most important users. So, instead of viewing the world as web pages with hyperlinks (where pages = nodes, hyperlinks = edges), we view it as users in an email network.\n"
      ]
    },
    {
      "cell_type": "markdown",
      "metadata": {
        "id": "DvqLhvpVanR1"
      },
      "source": [
        "### A: PageRank (10 points)\n",
        "Given this graph, your first job is to simply run PageRank to find the highest ranking users. You may use the [built-in pagerank](https://networkx.org/documentation/stable/reference/algorithms/generated/networkx.algorithms.link_analysis.pagerank_alg.pagerank.html) function in networkx.\n",
        "\n",
        "Print the top-5 highest PageRank scores in `user: score` format."
      ]
    },
    {
      "cell_type": "code",
      "execution_count": null,
      "metadata": {
        "id": "vnO7-gdkbINy"
      },
      "outputs": [],
      "source": [
        "# your code here"
      ]
    },
    {
      "cell_type": "markdown",
      "metadata": {
        "id": "yGJMO290bmE6"
      },
      "source": [
        "### B: Personalized PageRank (10 points)\n",
        "In class, we focused on the traditional \"vanilla\" PageRank where the teleportation factor is uniform -- that is, the random surfer occasionally is bored and will teleport randomly to a node in the graph. Instead, we can bias the teleportation to a subset of nodes in the graph. This is called Personalized PageRank! The idea is that the PageRank scores will be biased towards nodes near the ones that you teleport to.\n",
        "\n",
        "For this problem assume the user of interest is `\"john.arnold@enron.com\"`. You should compute the personalized PageRank and print the top-5 highest personalized PageRank scores in `user: score` format. Note that there is a nice function parameter called \"personalization\" in the built-in pagerank that you can use for this problem."
      ]
    },
    {
      "cell_type": "code",
      "execution_count": null,
      "metadata": {
        "id": "2pYY2oZAx_wC"
      },
      "outputs": [],
      "source": [
        "# your code here"
      ]
    },
    {
      "cell_type": "markdown",
      "metadata": {
        "id": "7PtHSywPc77x"
      },
      "source": [
        "### C: Hubs and Authorities (20 points)\n",
        "Just like we can calculate PageRank over the user graph, we can also find the hub and authority scores for users.\n",
        "\n",
        "For this part, you should return the top-5 users with highest Hub scores and the top-5 users with the highest Authority scores. The **output** should be like:\n",
        "\n",
        "`Hub Scores`\n",
        "\n",
        "`1. user1: score1`\n",
        "\n",
        "`...`\n",
        "\n",
        "`Authority Scores`\n",
        "\n",
        "`1. user1: score1`\n",
        "\n",
        "` ...`\n",
        "\n",
        "\n"
      ]
    },
    {
      "cell_type": "code",
      "execution_count": null,
      "metadata": {
        "id": "oY5oXv_AmEzY"
      },
      "outputs": [],
      "source": [
        "# Your code here"
      ]
    },
    {
      "cell_type": "markdown",
      "metadata": {
        "id": "WggQ05Eo08jX"
      },
      "source": [
        "### Discussion (10 points)\n",
        "Briefly discuss the differences you see between the three methods. You should play with the personalization parameters in PageRank and show some findings.\n"
      ]
    },
    {
      "cell_type": "markdown",
      "metadata": {
        "id": "nv8x2zEp08jX"
      },
      "source": [
        "*your discussion here*"
      ]
    },
    {
      "cell_type": "markdown",
      "metadata": {
        "id": "FihN3qniN-Jy"
      },
      "source": [
        "# Collaboration Declarations"
      ]
    },
    {
      "cell_type": "markdown",
      "metadata": {
        "id": "3EKp_Fe-N-Jy"
      },
      "source": [
        "*You should fill out your collaboration declarations here.*\n"
      ]
    }
  ],
  "metadata": {
    "colab": {
      "provenance": [],
      "include_colab_link": true
    },
    "kernelspec": {
      "display_name": "Python 2",
      "language": "python",
      "name": "python2"
    },
    "language_info": {
      "codemirror_mode": {
        "name": "ipython",
        "version": 2
      },
      "file_extension": ".py",
      "mimetype": "text/x-python",
      "name": "python",
      "nbconvert_exporter": "python",
      "pygments_lexer": "ipython2",
      "version": "2.7.14"
    }
  },
  "nbformat": 4,
  "nbformat_minor": 0
}